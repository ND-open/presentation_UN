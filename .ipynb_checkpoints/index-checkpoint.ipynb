{
 "cells": [
  {
   "cell_type": "markdown",
   "metadata": {
    "slideshow": {
     "slide_type": "slide"
    }
   },
   "source": [
    "# Présentation - Alumni du Master IS\n",
    "\n",
    "Camille Bonamy - Next Décision\n",
    "\n",
    "2021/10/22"
   ]
  },
  {
   "cell_type": "markdown",
   "metadata": {
    "slideshow": {
     "slide_type": "slide"
    }
   },
   "source": [
    "##### Questions d'entretien de stage (R/Python):\n",
    "\n",
    "* Dans quel package se trouve la fonction `lm` (pour R) / `pickle` (python) ?\n",
    "* Quel est votre package préféré pour entraîner des modèles ?\n",
    "* Avez vous effectué des projets ? Sont-ils sur Github/Gitlab ?\n",
    "* Avez vous un profil Kaggle ?\n",
    "* Avez vous déjà participé à un challenge data ?\n",
    "* Avez vous travaillé avec des données issues de problématiques réelles ? (Comprendre données non propres)\n",
    "* Quels sont les étapes pour mener un projet de data science ?\n",
    "* Pouvez vous expliquer en terme simple un algorithme de machine learning (type random forest)\n",
    "\n",
    "Suivi de test (papier...) SQL, Python et R.\n"
   ]
  },
  {
   "cell_type": "markdown",
   "metadata": {
    "slideshow": {
     "slide_type": "slide"
    }
   },
   "source": [
    "# Plan\n",
    "\n",
    "* Introduction\n",
    "* La Data Science en entreprise\n",
    "* Stratégies de recherche de stage/d'emploi\n",
    "* Une fois en poste, les objectifs et les difficultés\n",
    "* Ressources"
   ]
  },
  {
   "cell_type": "markdown",
   "metadata": {
    "slideshow": {
     "slide_type": "slide"
    }
   },
   "source": [
    "# Introduction"
   ]
  },
  {
   "cell_type": "markdown",
   "metadata": {
    "slideshow": {
     "slide_type": "subslide"
    }
   },
   "source": [
    "def ej():\n",
    "    \n",
    "* Issu de la promo 2017-2018 Master IS\n",
    "* Stage de fin d'étude pour Next Decision chez un client : AS24, filière du\n",
    "groupe Total sur le thème de la détection de fraudes\n",
    "* En poste de Data Scientist chez Next Decision\n",
    "\n",
    "def xp():\n",
    "    \n",
    "* technologies Big Data (Hadoop, bases NoSQL)\n",
    "* cycle ML complet (collecte, qualité des données, modélisation, déploiement)\n",
    "* secteur industriel, agro-alimentaire et bancaire"
   ]
  },
  {
   "cell_type": "markdown",
   "metadata": {
    "slideshow": {
     "slide_type": "subslide"
    }
   },
   "source": [
    "def ej():\n",
    "    \n",
    "* Issu de la promo 2017-2018 Master IS\n",
    "* Stage de fin d'étude pour Next Decision chez un client : AS24, filière du\n",
    "groupe Total sur le thème de la détection de fraudes\n",
    "* En poste de Data Scientist chez Next Decision\n",
    "\n",
    "def xp():\n",
    "    \n",
    "* technologies Big Data (Hadoop, bases NoSQL)\n",
    "* cycle ML complet (collecte, qualité des données, modélisation, déploiement)\n",
    "* secteur industriel, agro-alimentaire et bancaire\n",
    "\n",
    "exemple de cas d'usages :\n",
    "\n",
    "* modélisation de qualité d'usinage\n",
    "* maintenance prédictive\n",
    "* segmentation de produits\n",
    "* recherche et analyse de niches commerciales\n",
    "* modèle de recommendation de prix"
   ]
  },
  {
   "cell_type": "markdown",
   "metadata": {
    "slideshow": {
     "slide_type": "slide"
    }
   },
   "source": [
    "# La Data Science en entreprise"
   ]
  },
  {
   "cell_type": "markdown",
   "metadata": {
    "slideshow": {
     "slide_type": "subslide"
    }
   },
   "source": [
    "Vous aller chercher un stage puis un emploi. La fonction occupée dépendra en partie du type d'entreprise que vous allez intégrer.\n",
    "\n",
    "* Grande entreprise technologique (GAFA, ...)\n",
    "* Groupe commercial reconnu (Grande distri, ...)\n",
    "* Start up dans ses débuts (moins de 20-30 personnnes)\n",
    "* Start up établie (Dataïku, ...)\n",
    "* Structure publique importante (ou travaillant pour le publique)\n",
    "\n",
    "* Consulting"
   ]
  },
  {
   "cell_type": "markdown",
   "metadata": {
    "slideshow": {
     "slide_type": "subslide"
    }
   },
   "source": [
    "Bestiaire non exhausif des rôles liés à la Data, un projet est mené par :\n",
    "\n",
    "* un Data Scientist\n",
    "* un Data Analyst\n",
    "* un Data Engineer\n",
    "* un Data Architect (en support)\n",
    "\n",
    "Ceux-ci interagissent avec :\n",
    "\n",
    "* la BI (Business Intelligence)\n",
    "* l'\"Infra\" (Infrastructure)\n",
    "* le Réseau\n",
    "\n",
    "pour le compte d'utilisateurs finaux, les \"métiers\" : marketing, commerciaux, logistiques, production, ..."
   ]
  },
  {
   "cell_type": "markdown",
   "metadata": {
    "slideshow": {
     "slide_type": "slide"
    }
   },
   "source": [
    "# Stratégies de recherche de stage/d'emploi"
   ]
  },
  {
   "cell_type": "markdown",
   "metadata": {
    "slideshow": {
     "slide_type": "subslide"
    }
   },
   "source": [
    "En amont :\n",
    "\n",
    "* [stage] Identifier le bon sujet (impératifs de contenus)\n",
    "* [emploi] Identifier vos attentes et les offres correspondantes\n",
    "\n",
    "L'intitulé du poste peut être trompeur, c'est la mission qui justifiera votre expérience et votre statut pour vos candidatures futurs.\n",
    "\n",
    "* CV et LM : à ne pas négliger et à personnaliser\n",
    "\n",
    "Compter un délai de ~2 mois en moyenne pour avoir un retour (si réponse il y a)."
   ]
  },
  {
   "cell_type": "markdown",
   "metadata": {
    "slideshow": {
     "slide_type": "subslide"
    }
   },
   "source": [
    "Les étapes de recrutement :\n",
    "\n",
    "* Premier appel téléphonique --> ne pas décrocher si n'êtes pas prêt. Rappeler la/le RH plus tard en ce mettant au calme et en ayant raffraichit sa mémoire sur l'offre d'emploi.\n",
    "\n",
    "* Entretien(s) d'embauche (pour un stage souvent 1, pour un emploi : de 2 à 5+)  \n",
    "\n",
    "Négocier et accepter une offre d'emploi :\n",
    "\n",
    "* C'est bien une négociation, l'employeur en vous choisissant vous redonne la main.\n",
    "* Plusieurs leviers de négociation existent : rémunération brute, variable, intéressement, avantages de la convention de travail (nombre de jours de congés en banque/assurance, ...), ticket restaurant, crèche d'entreprise, abonnements pour le sport, voiture de fonction, ..."
   ]
  },
  {
   "cell_type": "markdown",
   "metadata": {
    "slideshow": {
     "slide_type": "slide"
    }
   },
   "source": [
    "# Une fois en poste, les objectifs et les difficultés"
   ]
  },
  {
   "cell_type": "markdown",
   "metadata": {
    "slideshow": {
     "slide_type": "subslide"
    }
   },
   "source": [
    "* Intégrer une entreprise (prise en main des outils)\n",
    "* Répondre aux attentes (parfois vous devrez deviner comment apporter de la valeur à l'entreprise).\n",
    "* Si vous êtes le premier Data Scientist --> tout est à construire\n",
    "  * avantage : autonomie et liberté de choix. Vous êtes visible et identifié comme étant la personne ML de l'entreprise. Dans quelques années, si l'équipe grandit vous serez le mieux placé pour être la/le 'Principal Data Scientist'.\n",
    "  * inconvénient : pas de mentor, auto-formation et il y aura peut être d'autres tâches (data cleaning, reporting) prioritaires.\n",
    "* Dans le cas où l'offre réelle diffère de ce qui a été décrit --> communiquer régulièrement sur le problème et proposer des solutions. La période d'essai est à double sens employeur/employé. Si la solution n'évolue pas vous pourrez partir, dans l'idéal en bon terme avec l'entreprise."
   ]
  },
  {
   "cell_type": "markdown",
   "metadata": {
    "slideshow": {
     "slide_type": "subslide"
    }
   },
   "source": [
    "En poste, les missions peuvent être diverses :\n",
    "    \n",
    "* effectuer des analyses impactantes --> usage des stats, visualisations et ML.\n",
    "* déployer un modèle en production --> enjeux de la reproduction des codes et résultats\n",
    "* travailler avec des directeurs --> poste à forte valeur ajoutée, vos analyses entraînent des décisions stratégiques. Selon les enjeux une pression peut être (auto) générée."
   ]
  },
  {
   "cell_type": "markdown",
   "metadata": {
    "slideshow": {
     "slide_type": "subslide"
    }
   },
   "source": [
    "Parfois, un projet peut être en échec. Plusieurs raisons peuvent en être la cause :\n",
    "    \n",
    "* mauvais cadrage du projet au départ\n",
    "* le métier n'a plus le besoin initial\n",
    "* manque de données, de signal\n",
    "* impossible de déployer / partager le modèle ou les résultats\n",
    "* ..."
   ]
  },
  {
   "cell_type": "markdown",
   "metadata": {
    "slideshow": {
     "slide_type": "slide"
    }
   },
   "source": [
    "# Ce que j'aurais aimé savoir pendant le stage de fin d'étude"
   ]
  },
  {
   "cell_type": "markdown",
   "metadata": {
    "slideshow": {
     "slide_type": "subslide"
    }
   },
   "source": [
    "Pour la gestion de projet, il est important d'avoir des retours réguliers du métier à propos de l'interprétation des données. Cela permet notamment de comprendre :\n",
    "\n",
    "* les données erronées (prix négatif, ...)\n",
    "* les codes (e.g : 'XXXXXX' signifie valeur manquante)\n",
    "\n",
    "De cette manière on pourra créer de la valeur avec un(des) premier(s) rapport(s) contenant des visualisations et des statistiques exploratoires.\n",
    "\n",
    "NB : il est (très) pénible de faire une présentation (stats, viz, modèle) et d'entendre que les données ne sont pas les bonnes.\n",
    "\n",
    "En terme de gestion de code :\n",
    "\n",
    "* organiser les traitements en plusieurs scripts, fonctions/objets (e.g : `preprocessing.py` contient la fonction preprocessing(...) pouvant appeler éventuellement d'autres sous-fonctions comme `cleaning.py` ).\n",
    "\n",
    "* plutôt que de copier/coller du code --> on écrit une fonction\n",
    "\n",
    "* si les traitements sont longs écrire les données intermédiaires : data_raw --> data_clean --> data_gold\n",
    "\n",
    "L'idée derrière ces conseils est de pouvoir changer un élément (la source, le nettoyage, ...) sans tout avoir à refaire à chaques fois."
   ]
  },
  {
   "cell_type": "markdown",
   "metadata": {
    "slideshow": {
     "slide_type": "subslide"
    }
   },
   "source": [
    "Technologies utiles pour mener à bien un projet avec code :\n",
    "    \n",
    "* pour gérer les versions, collaborer et revenir en arrière :\n",
    "    * [git](https://git-scm.com/), SVN\n",
    "    * [Github](https://github.com/), [Gitlab](https://about.gitlab.com/fr-fr/), Devops, ...\n",
    "* pour effectuer des taches de bas niveau : ligne de commande (dans le terminal avec écran noir).\n",
    "    \n",
    "Il est important de bien connaitre ses outils de travail pour gagner du temps par la suite. Aussi il est parfaitement entendable de passer ~1 mois à apprendre à bien utiliser python (+ Jupyter Notebook ou/et vscode, conda, les packages `scikit-learn`, `pandas`, `statsmodel`, `keras`, `pytorch`, ...) ou R (Rstudio, les paquets `RMarkdown`, `shiny`, `ggplot2`, le `tidyverse`, `tidymodels`, `data.table`, ...) et tout autre outil nécessaire (SQL, git, ...)."
   ]
  },
  {
   "cell_type": "markdown",
   "metadata": {
    "slideshow": {
     "slide_type": "slide"
    }
   },
   "source": [
    "# Ressources"
   ]
  },
  {
   "cell_type": "markdown",
   "metadata": {
    "slideshow": {
     "slide_type": "subslide"
    }
   },
   "source": [
    "* Livre \"Build a career in Data Science\", Emily Robinson & Jacqueline Nolis\n",
    "\n",
    "* Pour coder, tester, partager du code (et même donner cours) : https://colab.research.google.com/\n",
    "\n",
    "* pour apprendre [git](https://learngitbranching.js.org/)\n",
    "* pour utiliser les lignes de commandes (dans un terminal, l'écran noir qui fait peur) : [Command_line](https://developer.mozilla.org/en-US/docs/Learn/Tools_and_testing/Understanding_client-side_tools/Command_line)\n",
    "\n",
    "Pour coder, de manière général après 5 mn de blocage :\n",
    "* [tous langages] [stackoverflow](https://stackoverflow.com)\n",
    "* [Python] [pythondiscord](https://www.pythondiscord.com/)\n",
    "* [R en français] [slack grrr](https://kutt.it/rgrrr), [annuaire](https://github.com/frrrenchies/frrrenchies) et un [excellent cours](https://larmarange.github.io/analyse-R/)\n",
    "* [R4DS : chaîne slack 'R for Data Science'](https://rfordatascience.slack.com/ssb/redirect)\n"
   ]
  },
  {
   "cell_type": "markdown",
   "metadata": {
    "slideshow": {
     "slide_type": "subslide"
    }
   },
   "source": [
    "Autre :\n",
    "* [vidéo] De la difficulté à reproduire les résultats (en entreprise et dans le monde de la recherche) : [Science as Amateur Software Development](https://www.youtube.com/watch?v=zwRdO9_GGhY)\n",
    "* [site] Gérer les valeurs manquantes en tant que problème ML : https://rmisstastic.netlify.app/\n",
    "\n",
    "Culture générale pour préparer l'entretien :\n",
    "\n",
    "* Yann Le Cun\n",
    "* David Cournapeau, Gael Varoquaux\n",
    "* François Chollet\n",
    "* Hadley Wickham"
   ]
  },
  {
   "cell_type": "markdown",
   "metadata": {
    "slideshow": {
     "slide_type": "slide"
    }
   },
   "source": [
    "\n",
    "\n",
    "Merci pour votre attention (présentation créée avec Jupyter Notebook)."
   ]
  }
 ],
 "metadata": {
  "celltoolbar": "Slideshow",
  "kernelspec": {
   "display_name": "Python 3",
   "language": "python",
   "name": "python3"
  },
  "language_info": {
   "codemirror_mode": {
    "name": "ipython",
    "version": 3
   },
   "file_extension": ".py",
   "mimetype": "text/x-python",
   "name": "python",
   "nbconvert_exporter": "python",
   "pygments_lexer": "ipython3",
   "version": "3.8.5"
  }
 },
 "nbformat": 4,
 "nbformat_minor": 4
}
